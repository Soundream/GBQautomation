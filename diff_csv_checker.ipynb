{
 "cells": [
  {
   "cell_type": "code",
   "execution_count": 1,
   "id": "9cf8da4d",
   "metadata": {},
   "outputs": [
    {
     "name": "stdout",
     "output_type": "stream",
     "text": [
      "Same\n"
     ]
    }
   ],
   "source": [
    "import pandas as pd\n",
    "\n",
    "df1 = pd.read_csv(r\"C:\\Users\\gzh\\Downloads\\bq-results-20250710-084938-1752137396440.csv\")\n",
    "df2 = pd.read_csv(r\"D:\\GitHubProjects\\GBQ-automation\\output\\market_share\\202507_appannie.csv\")\n",
    "\n",
    "if df1.equals(df2):\n",
    "    print(\"Same\")\n",
    "else:\n",
    "    print(\"Different\")\n"
   ]
  }
 ],
 "metadata": {
  "kernelspec": {
   "display_name": "Python 3",
   "language": "python",
   "name": "python3"
  },
  "language_info": {
   "codemirror_mode": {
    "name": "ipython",
    "version": 3
   },
   "file_extension": ".py",
   "mimetype": "text/x-python",
   "name": "python",
   "nbconvert_exporter": "python",
   "pygments_lexer": "ipython3",
   "version": "3.10.10"
  }
 },
 "nbformat": 4,
 "nbformat_minor": 5
}
