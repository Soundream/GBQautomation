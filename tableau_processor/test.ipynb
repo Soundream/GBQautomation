{
 "cells": [
  {
   "cell_type": "code",
   "execution_count": 1,
   "id": "658f1b1a",
   "metadata": {},
   "outputs": [
    {
     "name": "stdout",
     "output_type": "stream",
     "text": [
      "文件存在: True\n"
     ]
    }
   ],
   "source": [
    "import xml.etree.ElementTree as ET\n",
    "import sys\n",
    "from pathlib import Path\n",
    "\n",
    "# 指定要解析的twb文件路径 - 使用示例路径，需要替换为您自己的路径\n",
    "twb_file_path = Path(\"/Users/intern/Documents/GitHub/GBQautomation/tableau_processor/xml_of_twbx/[shopcash] Ecommerce Key Markets Report, 2025-08/Ecommerce Key Markets Report, 2025-07.twb\")\n",
    "\n",
    "# 验证文件是否存在\n",
    "print(f\"文件存在: {twb_file_path.exists()}\")\n"
   ]
  },
  {
   "cell_type": "code",
   "execution_count": 2,
   "id": "38371828",
   "metadata": {},
   "outputs": [
    {
     "name": "stdout",
     "output_type": "stream",
     "text": [
      "根元素标签: workbook\n",
      "根元素属性: {'locale': 'en_SG', 'source-build': '2025.2.0 (20252.25.0514.2217)', 'source-platform': 'mac', 'version': '18.1'}\n"
     ]
    }
   ],
   "source": [
    "# 解析XML文件\n",
    "tree = ET.parse(twb_file_path)\n",
    "root = tree.getroot()\n",
    "\n",
    "# 查看根元素标签和属性\n",
    "print(f\"根元素标签: {root.tag}\")\n",
    "print(f\"根元素属性: {root.attrib}\")\n"
   ]
  },
  {
   "cell_type": "code",
   "execution_count": 3,
   "id": "f1cda16f",
   "metadata": {},
   "outputs": [
    {
     "name": "stdout",
     "output_type": "stream",
     "text": [
      "直接查找到的worksheet数量: 57\n",
      "第一个worksheet名称: AE App Meta OTA\n",
      "第一个worksheet名称: AE App Types\n",
      "第一个worksheet名称: AE Google Play App Rankings (2)\n",
      "第一个worksheet名称: AE Web Meta OTA\n",
      "第一个worksheet名称: AE Web Types\n",
      "第一个worksheet名称: AE iOS App Rankings (2)\n",
      "第一个worksheet名称: BH App Meta OTA\n",
      "第一个worksheet名称: BH App Types\n",
      "第一个worksheet名称: BH Web Meta OTA\n",
      "第一个worksheet名称: BH Web Types\n",
      "第一个worksheet名称: EG App Meta OTA\n",
      "第一个worksheet名称: EG App Types\n",
      "第一个worksheet名称: EG Google Play App Rankings (2)\n",
      "第一个worksheet名称: EG Web Meta OTA\n",
      "第一个worksheet名称: EG Web Types\n",
      "第一个worksheet名称: EG iOS App Rankings (2)\n",
      "第一个worksheet名称: Global App Bar\n",
      "第一个worksheet名称: Global App Meta OTA\n",
      "第一个worksheet名称: Global App Treemap\n",
      "第一个worksheet名称: Global App Types\n",
      "第一个worksheet名称: Global Web Bar\n",
      "第一个worksheet名称: Global Web Meta OTA\n",
      "第一个worksheet名称: Global Web Treemap\n",
      "第一个worksheet名称: Global Web Types\n",
      "第一个worksheet名称: KW App Meta OTA\n",
      "第一个worksheet名称: KW App Types\n",
      "第一个worksheet名称: KW Google Play App Rankings (2)\n",
      "第一个worksheet名称: KW Web Meta OTA\n",
      "第一个worksheet名称: KW Web Types\n",
      "第一个worksheet名称: KW iOS App Rankings (2)\n",
      "第一个worksheet名称: MENA App Bar (2)\n",
      "第一个worksheet名称: MENA App Meta OTA\n",
      "第一个worksheet名称: MENA App Treemap\n",
      "第一个worksheet名称: MENA App Types-\n",
      "第一个worksheet名称: MENA Web Bar (2)\n",
      "第一个worksheet名称: MENA Web Meta OTA\n",
      "第一个worksheet名称: MENA Web Treemap\n",
      "第一个worksheet名称: MENA Web Types (2)\n",
      "第一个worksheet名称: Monthly Active Users (2)\n",
      "第一个worksheet名称: OM App Meta OTA\n",
      "第一个worksheet名称: OM App Types\n",
      "第一个worksheet名称: OM Google Play App Rankings (2)\n",
      "第一个worksheet名称: OM Web Meta OTA\n",
      "第一个worksheet名称: OM Web Types\n",
      "第一个worksheet名称: OM iOS App Rankings (2)\n",
      "第一个worksheet名称: QA App Meta OTA\n",
      "第一个worksheet名称: QA App Types\n",
      "第一个worksheet名称: QA Google Play App Rankings\n",
      "第一个worksheet名称: QA Web Meta OTA\n",
      "第一个worksheet名称: QA Web Types\n",
      "第一个worksheet名称: QA iOS App Rankings\n",
      "第一个worksheet名称: SA App Meta OTA\n",
      "第一个worksheet名称: SA App Types\n",
      "第一个worksheet名称: SA Google Play App Rankings (2)\n",
      "第一个worksheet名称: SA Web Meta OTA\n",
      "第一个worksheet名称: SA Web Types\n",
      "第一个worksheet名称: SA iOS App Rankings (2)\n"
     ]
    }
   ],
   "source": [
    "# 方法1: 直接查找worksheet元素\n",
    "worksheets = root.findall(\".//worksheet\")\n",
    "print(f\"直接查找到的worksheet数量: {len(worksheets)}\")\n",
    "\n",
    "# 如果找到了，显示第一个worksheet的名称\n",
    "for ws in worksheets:\n",
    "    name = ws.get('name')\n",
    "    print(f\"第一个worksheet名称: {name}\")\n"
   ]
  },
  {
   "cell_type": "code",
   "execution_count": 4,
   "id": "a3c67dbe",
   "metadata": {},
   "outputs": [
    {
     "name": "stdout",
     "output_type": "stream",
     "text": [
      "找到的dashboard数量: 33\n",
      "第一个dashboard名称: AE - App Rankings (2)\n",
      "找到的window元素数量: 90\n",
      "第一个window属性: {'class': 'dashboard', 'maximized': 'true', 'name': 'Title Slide'}\n",
      "带有name属性的元素数量: 4166\n",
      "前5个带name属性的元素: ['preference: ui.encoding.shelf.height', 'preference: ui.shelf.height', 'datasource: federated.0mo9638076xq0x12rysjr0umh0kh', 'named-connection: textscan.0ix2ys40q50o431acna730vei35a', 'relation: 202508_similarweb_tableau_report.csv']\n"
     ]
    }
   ],
   "source": [
    "# 尝试其他可能的路径查找工作表信息\n",
    "# 查找dashboards\n",
    "dashboards = root.findall(\".//dashboard\")\n",
    "print(f\"找到的dashboard数量: {len(dashboards)}\")\n",
    "if dashboards:\n",
    "    print(f\"第一个dashboard名称: {dashboards[0].get('name')}\")\n",
    "    \n",
    "# 查找windows元素\n",
    "windows = root.findall(\".//window\")\n",
    "print(f\"找到的window元素数量: {len(windows)}\")\n",
    "if windows:\n",
    "    print(f\"第一个window属性: {windows[0].attrib}\")\n",
    "    \n",
    "# 查找所有name属性\n",
    "elements_with_name = root.findall(\".//*[@name]\")\n",
    "print(f\"带有name属性的元素数量: {len(elements_with_name)}\")\n",
    "if elements_with_name and len(elements_with_name) > 0:\n",
    "    print(f\"前5个带name属性的元素: {[e.tag + ': ' + e.get('name') for e in elements_with_name[:5]]}\")\n"
   ]
  },
  {
   "cell_type": "code",
   "execution_count": 7,
   "id": "e0d1c62c",
   "metadata": {},
   "outputs": [
    {
     "data": {
      "text/plain": [
       "'AE App Meta OTA'"
      ]
     },
     "execution_count": 7,
     "metadata": {},
     "output_type": "execute_result"
    }
   ],
   "source": [
    "worksheets[0].get('name')"
   ]
  }
 ],
 "metadata": {
  "kernelspec": {
   "display_name": ".venv",
   "language": "python",
   "name": "python3"
  },
  "language_info": {
   "codemirror_mode": {
    "name": "ipython",
    "version": 3
   },
   "file_extension": ".py",
   "mimetype": "text/x-python",
   "name": "python",
   "nbconvert_exporter": "python",
   "pygments_lexer": "ipython3",
   "version": "3.10.9"
  }
 },
 "nbformat": 4,
 "nbformat_minor": 5
}
